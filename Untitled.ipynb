{
 "cells": [
  {
   "cell_type": "code",
   "execution_count": 8,
   "id": "66ae2326-e67c-41e7-8a9c-030e0d2b5a6a",
   "metadata": {
    "tags": []
   },
   "outputs": [],
   "source": [
    "from sklearn.preprocessing import StandardScaler, LabelEncoder\n",
    "from sklearn.model_selection import train_test_split\n",
    "import pandas as pd\n",
    "from datetime import datetime"
   ]
  },
  {
   "cell_type": "code",
   "execution_count": 3,
   "id": "7efa20bd-0341-46c7-8936-5a7076190c48",
   "metadata": {
    "tags": []
   },
   "outputs": [
    {
     "name": "stdout",
     "output_type": "stream",
     "text": [
      "             API  PermitDate    SpudDate CompletionDate formation   \n",
      "0  5005072170100  2014-05-06  2014-05-06     2014-12-02  NIOBRARA  \\\n",
      "1  5123377130000  2013-07-21  2013-10-06     2014-02-26  NIOBRARA   \n",
      "2  5123379280000  2013-09-08  2013-09-25     2014-09-07  NIOBRARA   \n",
      "3  5123379400000  2013-09-11  2014-12-05     2015-03-31  NIOBRARA   \n",
      "4  5123385820100  2014-01-07  2014-01-13     2014-04-23  NIOBRARA   \n",
      "\n",
      "      BasinName StateName   LatWGS84    LonWGS84  Prod1Year  \n",
      "0  DENVER BASIN  COLORADO  39.684606 -104.642128     126898  \n",
      "1  DENVER BASIN  COLORADO  40.509320 -104.780980      22616  \n",
      "2  DENVER BASIN  COLORADO  40.335390 -104.363000      47523  \n",
      "3  DENVER BASIN  COLORADO  40.152220 -104.530780      59474  \n",
      "4  DENVER BASIN  COLORADO  40.508303 -104.868180      14427   \n",
      "\n"
     ]
    }
   ],
   "source": [
    "pd.set_option(\"display.max_columns\", None)\n",
    "\n",
    "df = pd.read_csv(\"wells_info_with_prod.csv\")\n",
    "# print(df.head(5))\n",
    "selected_features = df[[\"API\", \"PermitDate\", \"SpudDate\", \"CompletionDate\", \"formation\", \"BasinName\", \"StateName\", \"LatWGS84\", \"LonWGS84\", \"Prod1Year\"]]\n",
    "print(selected_features.head(5), \"\\n\")"
   ]
  },
  {
   "cell_type": "code",
   "execution_count": 4,
   "id": "53cc192a-6f9d-4e05-bea6-10a9f2b08734",
   "metadata": {
    "tags": []
   },
   "outputs": [],
   "source": [
    "features = selected_features.drop(\"Prod1Year\", axis=1)\n",
    "target_var = selected_features[\"Prod1Year\"]\n",
    "\n",
    "features_train, features_test, target_var_train, target_var_test = train_test_split(features, target_var, test_size=0.2, random_state=42)"
   ]
  },
  {
   "cell_type": "code",
   "execution_count": 5,
   "id": "85cf7373-dfd1-4d54-aa13-769ecbba7b79",
   "metadata": {
    "tags": []
   },
   "outputs": [
    {
     "name": "stdout",
     "output_type": "stream",
     "text": [
      "Train set:\n",
      "                API  PermitDate    SpudDate CompletionDate    formation   \n",
      "12  30015414470000  2013-06-07  2013-10-06     2014-01-07  BONE SPRING  \\\n",
      "4    5123385820100  2014-01-07  2014-01-13     2014-04-23     NIOBRARA   \n",
      "37  35073250300000  2014-11-26  2015-02-14     2015-08-25       OSWEGO   \n",
      "8    5123399750000  2014-08-09  2014-11-14     2015-04-16     NIOBRARA   \n",
      "3    5123379400000  2013-09-11  2014-12-05     2015-03-31     NIOBRARA   \n",
      "\n",
      "         BasinName   StateName   LatWGS84    LonWGS84  \n",
      "12   PERMIAN BASIN  NEW MEXICO  32.312443 -104.030511  \n",
      "4     DENVER BASIN    COLORADO  40.508303 -104.868180  \n",
      "37  ANADARKO BASIN    OKLAHOMA  36.044720  -97.893227  \n",
      "8     DENVER BASIN    COLORADO  40.263373 -104.727955  \n",
      "3     DENVER BASIN    COLORADO  40.152220 -104.530780   \n",
      "\n",
      "Test set:\n",
      "                API  PermitDate    SpudDate CompletionDate       formation   \n",
      "13  30025425390000  2015-04-30  2015-06-17     2015-10-10  WOLFCAMP UPPER  \\\n",
      "39  42105420060100  2014-04-10  2014-06-07     2014-08-04        WOLFCAMP   \n",
      "30  33105034810000  2014-03-24  2014-06-06     2015-01-15          BAKKEN   \n",
      "45  42383381710000  2013-01-09  2013-10-23     2014-03-07        WOLFCAMP   \n",
      "17  33053051530000  2013-07-29  2013-09-03     2014-04-27          BAKKEN   \n",
      "\n",
      "          BasinName     StateName   LatWGS84    LonWGS84  \n",
      "13    PERMIAN BASIN    NEW MEXICO  32.080410 -103.530040  \n",
      "39    PERMIAN BASIN         TEXAS  31.036220 -101.298203  \n",
      "30  WILLISTON BASIN  NORTH DAKOTA  48.516578 -102.938572  \n",
      "45    PERMIAN BASIN         TEXAS  31.287603 -101.589564  \n",
      "17  WILLISTON BASIN  NORTH DAKOTA  47.992928 -103.020490  \n"
     ]
    }
   ],
   "source": [
    "print(\"Train set:\\n\", features_train.head(5), \"\\n\")\n",
    "print(\"Test set:\\n\", features_test.head(5))"
   ]
  },
  {
   "cell_type": "code",
   "execution_count": 47,
   "id": "3c850bc9-dda4-4901-a8a5-2e1990461fd0",
   "metadata": {
    "tags": []
   },
   "outputs": [
    {
     "name": "stdout",
     "output_type": "stream",
     "text": [
      "               API  PermitDate  SpudDate  CompletionDate  formation\n",
      "12  30015414470000         0.0       0.0             0.0          1\n",
      "4    5123385820100         0.0       0.0             0.0          3\n",
      "37  35073250300000         0.0       0.0             0.0          4\n",
      "8    5123399750000         0.0       0.0             0.0          3\n",
      "3    5123379400000         0.0       0.0             0.0          3\n",
      "6    5123390440000         0.0       0.0             0.0          3\n",
      "41  42105421500000         0.0       0.0             0.0          8\n",
      "46  42389339940000         0.0       0.0             0.0          8\n",
      "47  42389345710000         0.0       0.0             0.0          8\n",
      "15  33025026780000         0.0       0.0             0.0          0\n",
      "9    5123402600000         0.0       0.0             0.0          2\n",
      "16  33053048870100         0.0       0.0             0.0          0\n",
      "24  33053062710000         0.0       0.0             0.0          0\n",
      "34  33105037690100         0.0       0.0             0.0          6\n",
      "31  33105035380000         0.0       0.0             0.0          0\n",
      "0    5005072170100         0.0       0.0             0.0          3\n",
      "44  42371392130100         0.0       0.0             0.0          8\n",
      "27  33061033560000         0.0       0.0             0.0          6\n",
      "33  33105036550100         0.0       0.0             0.0          6\n",
      "5    5123390320000         0.0       0.0             0.0          3\n",
      "29  33105032030000         0.0       0.0             0.0          6\n",
      "11   5123410480000         0.0       0.0             0.0          3\n",
      "36  35017246960000         0.0       0.0             0.0          9\n",
      "1    5123377130000         0.0       0.0             0.0          3\n",
      "21  33053061530000         0.0       0.0             0.0          6\n",
      "2    5123379280000         0.0       0.0             0.0          3\n",
      "43  42317401950000         0.0       0.0             0.0          5\n",
      "35  35017246780000         0.0       0.0             0.0          9\n",
      "23  33053061970000         0.0       0.0             0.0          6\n",
      "40  42105421020000         0.0       0.0             0.0          8\n",
      "10   5123409020000         0.0       0.0             0.0          3\n",
      "22  33053061600000         0.0       0.0             0.0          0\n",
      "18  33053056390200         0.0       0.0             0.0          7\n",
      "49  49021210550000         0.0       0.0             0.0          2\n",
      "20  33053059400000         0.0       0.0             0.0          6\n",
      "7    5123392690000         0.0       0.0             0.0          3\n",
      "42  42301318440000         0.0       0.0             0.0          1\n",
      "14  33023010960000         0.0       0.0             0.0          6\n",
      "28  33105031270000         0.0       0.0             0.0          6\n",
      "38  42105419830000         0.0       0.0             0.0          8\n"
     ]
    },
    {
     "name": "stderr",
     "output_type": "stream",
     "text": [
      "C:\\Users\\User\\AppData\\Local\\Programs\\Python\\Python310\\lib\\site-packages\\sklearn\\base.py:457: UserWarning: X has feature names, but StandardScaler was fitted without feature names\n",
      "  warnings.warn(\n"
     ]
    },
    {
     "ename": "ValueError",
     "evalue": "could not convert string to float: 'WOLFCAMP UPPER'",
     "output_type": "error",
     "traceback": [
      "\u001b[1;31m---------------------------------------------------------------------------\u001b[0m",
      "\u001b[1;31mValueError\u001b[0m                                Traceback (most recent call last)",
      "Cell \u001b[1;32mIn[47], line 16\u001b[0m\n\u001b[0;32m     12\u001b[0m target_var_scaled \u001b[38;5;241m=\u001b[39m scaler\u001b[38;5;241m.\u001b[39mfit_transform(target_var_train\u001b[38;5;241m.\u001b[39mto_numpy()\u001b[38;5;241m.\u001b[39mreshape(\u001b[38;5;241m1\u001b[39m, \u001b[38;5;241m-\u001b[39m\u001b[38;5;241m1\u001b[39m))\n\u001b[0;32m     14\u001b[0m \u001b[38;5;66;03m# Масштабирование тестового набора данных\u001b[39;00m\n\u001b[1;32m---> 16\u001b[0m features_test_scaled \u001b[38;5;241m=\u001b[39m \u001b[43mscaler\u001b[49m\u001b[38;5;241;43m.\u001b[39;49m\u001b[43mtransform\u001b[49m\u001b[43m(\u001b[49m\u001b[43mfeatures_test\u001b[49m\u001b[43m)\u001b[49m\n\u001b[0;32m     17\u001b[0m target_test_scaled \u001b[38;5;241m=\u001b[39m scaler\u001b[38;5;241m.\u001b[39mtransform(target_var_test)\n\u001b[0;32m     19\u001b[0m \u001b[38;5;28mprint\u001b[39m(features_train_scaled[:\u001b[38;5;241m5\u001b[39m])\n",
      "File \u001b[1;32m~\\AppData\\Local\\Programs\\Python\\Python310\\lib\\site-packages\\sklearn\\utils\\_set_output.py:140\u001b[0m, in \u001b[0;36m_wrap_method_output.<locals>.wrapped\u001b[1;34m(self, X, *args, **kwargs)\u001b[0m\n\u001b[0;32m    138\u001b[0m \u001b[38;5;129m@wraps\u001b[39m(f)\n\u001b[0;32m    139\u001b[0m \u001b[38;5;28;01mdef\u001b[39;00m \u001b[38;5;21mwrapped\u001b[39m(\u001b[38;5;28mself\u001b[39m, X, \u001b[38;5;241m*\u001b[39margs, \u001b[38;5;241m*\u001b[39m\u001b[38;5;241m*\u001b[39mkwargs):\n\u001b[1;32m--> 140\u001b[0m     data_to_wrap \u001b[38;5;241m=\u001b[39m f(\u001b[38;5;28mself\u001b[39m, X, \u001b[38;5;241m*\u001b[39margs, \u001b[38;5;241m*\u001b[39m\u001b[38;5;241m*\u001b[39mkwargs)\n\u001b[0;32m    141\u001b[0m     \u001b[38;5;28;01mif\u001b[39;00m \u001b[38;5;28misinstance\u001b[39m(data_to_wrap, \u001b[38;5;28mtuple\u001b[39m):\n\u001b[0;32m    142\u001b[0m         \u001b[38;5;66;03m# only wrap the first output for cross decomposition\u001b[39;00m\n\u001b[0;32m    143\u001b[0m         return_tuple \u001b[38;5;241m=\u001b[39m (\n\u001b[0;32m    144\u001b[0m             _wrap_data_with_container(method, data_to_wrap[\u001b[38;5;241m0\u001b[39m], X, \u001b[38;5;28mself\u001b[39m),\n\u001b[0;32m    145\u001b[0m             \u001b[38;5;241m*\u001b[39mdata_to_wrap[\u001b[38;5;241m1\u001b[39m:],\n\u001b[0;32m    146\u001b[0m         )\n",
      "File \u001b[1;32m~\\AppData\\Local\\Programs\\Python\\Python310\\lib\\site-packages\\sklearn\\preprocessing\\_data.py:1004\u001b[0m, in \u001b[0;36mStandardScaler.transform\u001b[1;34m(self, X, copy)\u001b[0m\n\u001b[0;32m   1001\u001b[0m check_is_fitted(\u001b[38;5;28mself\u001b[39m)\n\u001b[0;32m   1003\u001b[0m copy \u001b[38;5;241m=\u001b[39m copy \u001b[38;5;28;01mif\u001b[39;00m copy \u001b[38;5;129;01mis\u001b[39;00m \u001b[38;5;129;01mnot\u001b[39;00m \u001b[38;5;28;01mNone\u001b[39;00m \u001b[38;5;28;01melse\u001b[39;00m \u001b[38;5;28mself\u001b[39m\u001b[38;5;241m.\u001b[39mcopy\n\u001b[1;32m-> 1004\u001b[0m X \u001b[38;5;241m=\u001b[39m \u001b[38;5;28;43mself\u001b[39;49m\u001b[38;5;241;43m.\u001b[39;49m\u001b[43m_validate_data\u001b[49m\u001b[43m(\u001b[49m\n\u001b[0;32m   1005\u001b[0m \u001b[43m    \u001b[49m\u001b[43mX\u001b[49m\u001b[43m,\u001b[49m\n\u001b[0;32m   1006\u001b[0m \u001b[43m    \u001b[49m\u001b[43mreset\u001b[49m\u001b[38;5;241;43m=\u001b[39;49m\u001b[38;5;28;43;01mFalse\u001b[39;49;00m\u001b[43m,\u001b[49m\n\u001b[0;32m   1007\u001b[0m \u001b[43m    \u001b[49m\u001b[43maccept_sparse\u001b[49m\u001b[38;5;241;43m=\u001b[39;49m\u001b[38;5;124;43m\"\u001b[39;49m\u001b[38;5;124;43mcsr\u001b[39;49m\u001b[38;5;124;43m\"\u001b[39;49m\u001b[43m,\u001b[49m\n\u001b[0;32m   1008\u001b[0m \u001b[43m    \u001b[49m\u001b[43mcopy\u001b[49m\u001b[38;5;241;43m=\u001b[39;49m\u001b[43mcopy\u001b[49m\u001b[43m,\u001b[49m\n\u001b[0;32m   1009\u001b[0m \u001b[43m    \u001b[49m\u001b[43mdtype\u001b[49m\u001b[38;5;241;43m=\u001b[39;49m\u001b[43mFLOAT_DTYPES\u001b[49m\u001b[43m,\u001b[49m\n\u001b[0;32m   1010\u001b[0m \u001b[43m    \u001b[49m\u001b[43mforce_all_finite\u001b[49m\u001b[38;5;241;43m=\u001b[39;49m\u001b[38;5;124;43m\"\u001b[39;49m\u001b[38;5;124;43mallow-nan\u001b[39;49m\u001b[38;5;124;43m\"\u001b[39;49m\u001b[43m,\u001b[49m\n\u001b[0;32m   1011\u001b[0m \u001b[43m\u001b[49m\u001b[43m)\u001b[49m\n\u001b[0;32m   1013\u001b[0m \u001b[38;5;28;01mif\u001b[39;00m sparse\u001b[38;5;241m.\u001b[39missparse(X):\n\u001b[0;32m   1014\u001b[0m     \u001b[38;5;28;01mif\u001b[39;00m \u001b[38;5;28mself\u001b[39m\u001b[38;5;241m.\u001b[39mwith_mean:\n",
      "File \u001b[1;32m~\\AppData\\Local\\Programs\\Python\\Python310\\lib\\site-packages\\sklearn\\base.py:604\u001b[0m, in \u001b[0;36mBaseEstimator._validate_data\u001b[1;34m(self, X, y, reset, validate_separately, cast_to_ndarray, **check_params)\u001b[0m\n\u001b[0;32m    602\u001b[0m         out \u001b[38;5;241m=\u001b[39m X, y\n\u001b[0;32m    603\u001b[0m \u001b[38;5;28;01melif\u001b[39;00m \u001b[38;5;129;01mnot\u001b[39;00m no_val_X \u001b[38;5;129;01mand\u001b[39;00m no_val_y:\n\u001b[1;32m--> 604\u001b[0m     out \u001b[38;5;241m=\u001b[39m check_array(X, input_name\u001b[38;5;241m=\u001b[39m\u001b[38;5;124m\"\u001b[39m\u001b[38;5;124mX\u001b[39m\u001b[38;5;124m\"\u001b[39m, \u001b[38;5;241m*\u001b[39m\u001b[38;5;241m*\u001b[39mcheck_params)\n\u001b[0;32m    605\u001b[0m \u001b[38;5;28;01melif\u001b[39;00m no_val_X \u001b[38;5;129;01mand\u001b[39;00m \u001b[38;5;129;01mnot\u001b[39;00m no_val_y:\n\u001b[0;32m    606\u001b[0m     out \u001b[38;5;241m=\u001b[39m _check_y(y, \u001b[38;5;241m*\u001b[39m\u001b[38;5;241m*\u001b[39mcheck_params)\n",
      "File \u001b[1;32m~\\AppData\\Local\\Programs\\Python\\Python310\\lib\\site-packages\\sklearn\\utils\\validation.py:917\u001b[0m, in \u001b[0;36mcheck_array\u001b[1;34m(array, accept_sparse, accept_large_sparse, dtype, order, copy, force_all_finite, ensure_2d, allow_nd, ensure_min_samples, ensure_min_features, estimator, input_name)\u001b[0m\n\u001b[0;32m    915\u001b[0m         array \u001b[38;5;241m=\u001b[39m xp\u001b[38;5;241m.\u001b[39mastype(array, dtype, copy\u001b[38;5;241m=\u001b[39m\u001b[38;5;28;01mFalse\u001b[39;00m)\n\u001b[0;32m    916\u001b[0m     \u001b[38;5;28;01melse\u001b[39;00m:\n\u001b[1;32m--> 917\u001b[0m         array \u001b[38;5;241m=\u001b[39m \u001b[43m_asarray_with_order\u001b[49m\u001b[43m(\u001b[49m\u001b[43marray\u001b[49m\u001b[43m,\u001b[49m\u001b[43m \u001b[49m\u001b[43morder\u001b[49m\u001b[38;5;241;43m=\u001b[39;49m\u001b[43morder\u001b[49m\u001b[43m,\u001b[49m\u001b[43m \u001b[49m\u001b[43mdtype\u001b[49m\u001b[38;5;241;43m=\u001b[39;49m\u001b[43mdtype\u001b[49m\u001b[43m,\u001b[49m\u001b[43m \u001b[49m\u001b[43mxp\u001b[49m\u001b[38;5;241;43m=\u001b[39;49m\u001b[43mxp\u001b[49m\u001b[43m)\u001b[49m\n\u001b[0;32m    918\u001b[0m \u001b[38;5;28;01mexcept\u001b[39;00m ComplexWarning \u001b[38;5;28;01mas\u001b[39;00m complex_warning:\n\u001b[0;32m    919\u001b[0m     \u001b[38;5;28;01mraise\u001b[39;00m \u001b[38;5;167;01mValueError\u001b[39;00m(\n\u001b[0;32m    920\u001b[0m         \u001b[38;5;124m\"\u001b[39m\u001b[38;5;124mComplex data not supported\u001b[39m\u001b[38;5;130;01m\\n\u001b[39;00m\u001b[38;5;132;01m{}\u001b[39;00m\u001b[38;5;130;01m\\n\u001b[39;00m\u001b[38;5;124m\"\u001b[39m\u001b[38;5;241m.\u001b[39mformat(array)\n\u001b[0;32m    921\u001b[0m     ) \u001b[38;5;28;01mfrom\u001b[39;00m \u001b[38;5;21;01mcomplex_warning\u001b[39;00m\n",
      "File \u001b[1;32m~\\AppData\\Local\\Programs\\Python\\Python310\\lib\\site-packages\\sklearn\\utils\\_array_api.py:380\u001b[0m, in \u001b[0;36m_asarray_with_order\u001b[1;34m(array, dtype, order, copy, xp)\u001b[0m\n\u001b[0;32m    378\u001b[0m     array \u001b[38;5;241m=\u001b[39m numpy\u001b[38;5;241m.\u001b[39marray(array, order\u001b[38;5;241m=\u001b[39morder, dtype\u001b[38;5;241m=\u001b[39mdtype)\n\u001b[0;32m    379\u001b[0m \u001b[38;5;28;01melse\u001b[39;00m:\n\u001b[1;32m--> 380\u001b[0m     array \u001b[38;5;241m=\u001b[39m \u001b[43mnumpy\u001b[49m\u001b[38;5;241;43m.\u001b[39;49m\u001b[43masarray\u001b[49m\u001b[43m(\u001b[49m\u001b[43marray\u001b[49m\u001b[43m,\u001b[49m\u001b[43m \u001b[49m\u001b[43morder\u001b[49m\u001b[38;5;241;43m=\u001b[39;49m\u001b[43morder\u001b[49m\u001b[43m,\u001b[49m\u001b[43m \u001b[49m\u001b[43mdtype\u001b[49m\u001b[38;5;241;43m=\u001b[39;49m\u001b[43mdtype\u001b[49m\u001b[43m)\u001b[49m\n\u001b[0;32m    382\u001b[0m \u001b[38;5;66;03m# At this point array is a NumPy ndarray. We convert it to an array\u001b[39;00m\n\u001b[0;32m    383\u001b[0m \u001b[38;5;66;03m# container that is consistent with the input's namespace.\u001b[39;00m\n\u001b[0;32m    384\u001b[0m \u001b[38;5;28;01mreturn\u001b[39;00m xp\u001b[38;5;241m.\u001b[39masarray(array)\n",
      "File \u001b[1;32m~\\AppData\\Local\\Programs\\Python\\Python310\\lib\\site-packages\\pandas\\core\\generic.py:1998\u001b[0m, in \u001b[0;36mNDFrame.__array__\u001b[1;34m(self, dtype)\u001b[0m\n\u001b[0;32m   1996\u001b[0m \u001b[38;5;28;01mdef\u001b[39;00m \u001b[38;5;21m__array__\u001b[39m(\u001b[38;5;28mself\u001b[39m, dtype: npt\u001b[38;5;241m.\u001b[39mDTypeLike \u001b[38;5;241m|\u001b[39m \u001b[38;5;28;01mNone\u001b[39;00m \u001b[38;5;241m=\u001b[39m \u001b[38;5;28;01mNone\u001b[39;00m) \u001b[38;5;241m-\u001b[39m\u001b[38;5;241m>\u001b[39m np\u001b[38;5;241m.\u001b[39mndarray:\n\u001b[0;32m   1997\u001b[0m     values \u001b[38;5;241m=\u001b[39m \u001b[38;5;28mself\u001b[39m\u001b[38;5;241m.\u001b[39m_values\n\u001b[1;32m-> 1998\u001b[0m     arr \u001b[38;5;241m=\u001b[39m \u001b[43mnp\u001b[49m\u001b[38;5;241;43m.\u001b[39;49m\u001b[43masarray\u001b[49m\u001b[43m(\u001b[49m\u001b[43mvalues\u001b[49m\u001b[43m,\u001b[49m\u001b[43m \u001b[49m\u001b[43mdtype\u001b[49m\u001b[38;5;241;43m=\u001b[39;49m\u001b[43mdtype\u001b[49m\u001b[43m)\u001b[49m\n\u001b[0;32m   1999\u001b[0m     \u001b[38;5;28;01mif\u001b[39;00m (\n\u001b[0;32m   2000\u001b[0m         astype_is_view(values\u001b[38;5;241m.\u001b[39mdtype, arr\u001b[38;5;241m.\u001b[39mdtype)\n\u001b[0;32m   2001\u001b[0m         \u001b[38;5;129;01mand\u001b[39;00m using_copy_on_write()\n\u001b[0;32m   2002\u001b[0m         \u001b[38;5;129;01mand\u001b[39;00m \u001b[38;5;28mself\u001b[39m\u001b[38;5;241m.\u001b[39m_mgr\u001b[38;5;241m.\u001b[39mis_single_block\n\u001b[0;32m   2003\u001b[0m     ):\n\u001b[0;32m   2004\u001b[0m         \u001b[38;5;66;03m# Check if both conversions can be done without a copy\u001b[39;00m\n\u001b[0;32m   2005\u001b[0m         \u001b[38;5;28;01mif\u001b[39;00m astype_is_view(\u001b[38;5;28mself\u001b[39m\u001b[38;5;241m.\u001b[39mdtypes\u001b[38;5;241m.\u001b[39miloc[\u001b[38;5;241m0\u001b[39m], values\u001b[38;5;241m.\u001b[39mdtype) \u001b[38;5;129;01mand\u001b[39;00m astype_is_view(\n\u001b[0;32m   2006\u001b[0m             values\u001b[38;5;241m.\u001b[39mdtype, arr\u001b[38;5;241m.\u001b[39mdtype\n\u001b[0;32m   2007\u001b[0m         ):\n",
      "\u001b[1;31mValueError\u001b[0m: could not convert string to float: 'WOLFCAMP UPPER'"
     ]
    }
   ],
   "source": [
    "# Создание объекта StandardScaler\n",
    "scaler = StandardScaler()\n",
    "\n",
    "features_train[['PermitDate', 'SpudDate', 'CompletionDate']] = features_train[['PermitDate', 'SpudDate', 'CompletionDate']].apply(pd.to_datetime).astype('int64')/10**9\n",
    "\n",
    "features_train = features_train.drop(features_train.columns[5:8], axis=1)\n",
    "features_test = features_test.drop(features_test.columns[5:8], axis=1)\n",
    "print(features_train)\n",
    "\n",
    "# Масштабирование обучающего набора данных\n",
    "features_train_scaled = scaler.fit_transform(features_train)\n",
    "target_var_scaled = scaler.fit_transform(target_var_train.to_numpy().reshape(1, -1))\n",
    "\n",
    "# Масштабирование тестового набора данных\n",
    "\n",
    "features_test_scaled = scaler.transform(features_test)\n",
    "target_test_scaled = scaler.transform(target_var_test)\n",
    "\n",
    "print(features_train_scaled[:5])"
   ]
  },
  {
   "cell_type": "code",
   "execution_count": null,
   "id": "83686926-e896-4b7d-a721-6f262c9f6abe",
   "metadata": {},
   "outputs": [],
   "source": []
  }
 ],
 "metadata": {
  "kernelspec": {
   "display_name": "Python 3 (ipykernel)",
   "language": "python",
   "name": "python3"
  },
  "language_info": {
   "codemirror_mode": {
    "name": "ipython",
    "version": 3
   },
   "file_extension": ".py",
   "mimetype": "text/x-python",
   "name": "python",
   "nbconvert_exporter": "python",
   "pygments_lexer": "ipython3",
   "version": "3.10.10"
  }
 },
 "nbformat": 4,
 "nbformat_minor": 5
}
